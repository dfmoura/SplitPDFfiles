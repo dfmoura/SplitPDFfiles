{
 "cells": [
  {
   "cell_type": "markdown",
   "id": "6a2b8e4d",
   "metadata": {},
   "source": [
    "# Split simples de arquivos pdf\n",
    "- Seguir a mesma estrutura da pasta\n",
    "\n",
    "    - !pip install PyPDF2\n",
    "    - !pip install pdfplumber "
   ]
  },
  {
   "cell_type": "code",
   "execution_count": 13,
   "id": "d466f57e",
   "metadata": {},
   "outputs": [],
   "source": [
    "#Importando as bibliotecas\n",
    "\n",
    "import os\n",
    "import pdfplumber\n",
    "from PyPDF2 import PdfFileWriter, PdfFileReader\n"
   ]
  },
  {
   "cell_type": "code",
   "execution_count": 14,
   "id": "8d8454ef",
   "metadata": {},
   "outputs": [],
   "source": [
    "pdf_file_path = 'Test.pdf'\n",
    "file_base_name = pdf_file_path.replace('.pdf','')\n",
    "output_folder_path = os.path.join(os.getcwd(),'Output')\n",
    "\n",
    "pdf = PdfFileReader(pdf_file_path)"
   ]
  },
  {
   "cell_type": "code",
   "execution_count": 15,
   "id": "9a0dcd94",
   "metadata": {},
   "outputs": [],
   "source": [
    "for page_num in range(pdf.numPages):\n",
    "    pdfWriter = PdfFileWriter()\n",
    "    pdfWriter.addPage(pdf.getPage(page_num))\n",
    "    \n",
    "    with open(os.path.join(output_folder_path, '{0}_Page{1}.pdf'.format(file_base_name, page_num+1)),'wb') as f:\n",
    "        pdfWriter.write(f)\n",
    "        f.close()\n",
    "    "
   ]
  },
  {
   "cell_type": "code",
   "execution_count": null,
   "id": "928ef654",
   "metadata": {},
   "outputs": [],
   "source": []
  }
 ],
 "metadata": {
  "kernelspec": {
   "display_name": "Python 3 (ipykernel)",
   "language": "python",
   "name": "python3"
  },
  "language_info": {
   "codemirror_mode": {
    "name": "ipython",
    "version": 3
   },
   "file_extension": ".py",
   "mimetype": "text/x-python",
   "name": "python",
   "nbconvert_exporter": "python",
   "pygments_lexer": "ipython3",
   "version": "3.9.12"
  }
 },
 "nbformat": 4,
 "nbformat_minor": 5
}
